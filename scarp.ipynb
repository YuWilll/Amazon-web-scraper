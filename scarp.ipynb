{
 "cells": [
  {
   "cell_type": "code",
   "execution_count": null,
   "metadata": {
    "notebookRunGroups": {
     "groupValue": "1"
    }
   },
   "outputs": [],
   "source": [
    "from bs4 import BeautifulSoup\n",
    "import requests\n",
    "import csv\n",
    "import sqlite3\n",
    "\n",
    "product = input(\"what do you want to find? \")\n",
    "product = product.replace(\" \", \"+\")\n",
    "listing = []\n",
    "custom_header = {\n",
    "    'user-agent': 'Mozilla/5.0 (Windows NT 10.0; Win64; x64) AppleWebKit/537.36 (KHTML, like Gecko) Chrome/129.0.0.0 Safari/537.36', \n",
    "    'Accept-language': 'en-US,en;q=0.7'\n",
    "}"
   ]
  },
  {
   "cell_type": "code",
   "execution_count": null,
   "metadata": {
    "notebookRunGroups": {
     "groupValue": "1"
    }
   },
   "outputs": [],
   "source": [
    "#opening amazon and grabbing all the items\n",
    "amz = 'https://www.amazon.ca/s?k=' + product\n",
    "res = requests.get(amz, headers= custom_header)\n",
    "soup = BeautifulSoup(res.content, \"html.parser\")\n",
    "print(amz)"
   ]
  },
  {
   "cell_type": "code",
   "execution_count": null,
   "metadata": {},
   "outputs": [],
   "source": [
    "#filtering functions\n",
    "def cut(items, src):\n",
    "    for i in range(len(items)):\n",
    "        src.remove(items[i])\n",
    "\n",
    "def remove_out_of_stock(catalogue):\n",
    "    removal = []\n",
    "    for i in range(len(catalogue)):\n",
    "        if type(catalogue[i][\"price\"]) == str:\n",
    "            removal.append(catalogue[i])\n",
    "    cut(removal, catalogue)\n",
    "\n",
    "def remove_duplicate_items(catalogue):\n",
    "    items = []\n",
    "    removal = []\n",
    "    for i in range(len(catalogue)):\n",
    "        price = catalogue[i][\"price\"]\n",
    "        name = catalogue[i][\"name\"]\n",
    "        reviews = catalogue[i][\"reviews\"]\n",
    "        rating = catalogue[i][\"rating\"]\n",
    "        if {\"price\": price, \"name\": name, \"rating\": rating, \"reviews\": reviews} in items:\n",
    "            removal.append(catalogue[i])\n",
    "        else:\n",
    "            items.append({\"price\": price, \"name\": name, \"rating\": rating, \"reviews\": reviews})\n",
    "    cut(removal, catalogue)\n",
    "\n",
    "def remove_including(word, catalogue):\n",
    "    removal = []\n",
    "    for i in range(len(catalogue)):\n",
    "        if word.lower() in catalogue[i][\"name\"].lower():\n",
    "            removal.append(catalogue[i])\n",
    "    cut(removal, catalogue)\n",
    "\n",
    "def remove_excluding(word, catalogue):\n",
    "    removal = []\n",
    "    for i in range(len(catalogue)):\n",
    "        if word.lower() not in catalogue[i][\"name\"].lower():\n",
    "            removal.append(catalogue[i])\n",
    "    cut(removal, catalogue)\n"
   ]
  },
  {
   "cell_type": "code",
   "execution_count": null,
   "metadata": {
    "notebookRunGroups": {
     "groupValue": "1"
    }
   },
   "outputs": [],
   "source": [
    "#Grabs info straight from search for amazon\n",
    "def scrape_page(page):\n",
    "    items = page.find_all(\"div\", attrs={\"data-component-type\": \"s-search-result\"})\n",
    "    for prod in items:\n",
    "        link = \"https://www.amazon.ca\" + prod.find(\"a\", attrs={\"class\": \"a-link-normal s-underline-text s-underline-link-text s-link-style a-text-normal\"}).get(\"href\")\n",
    "        name = prod.find(\"span\", attrs={\"class\": \"a-size-base-plus a-color-base a-text-normal\"}).text.strip()\n",
    "        if prod.find(\"span\", attrs={\"class\": \"a-icon-alt\"}) is None:\n",
    "            rating = \"No rating\"\n",
    "            reviews = \"No reviews\"\n",
    "        else:\n",
    "            rating = prod.find(\"span\", attrs={\"class\": \"a-icon-alt\"}).text.strip()\n",
    "            rating = float(rating[:rating.find(\" \")])\n",
    "            reviews = prod.find(\"span\", attrs={\"class\": \"a-size-base s-underline-text\"}).text.strip()\n",
    "            reviews = int(reviews.replace(\",\", \"\"))\n",
    "        if prod.find(\"span\", attrs={\"class\": \"a-offscreen\"}) is None:\n",
    "            price = \"Out of stock\"\n",
    "        else:\n",
    "            price = (prod.find(\"span\", attrs={\"class\": \"a-offscreen\"}).text.strip()[1:])\n",
    "            price = float(price.replace(\",\", \"\"))\n",
    "        listing.append({\"price\": price, \"rating\": rating, \"reviews\": reviews,\"name\": name, \"link\": link})\n"
   ]
  },
  {
   "cell_type": "code",
   "execution_count": null,
   "metadata": {},
   "outputs": [],
   "source": [
    "#Choose filters\n",
    "def filters(catalogue) -> str:\n",
    "    cmd = input(\"Remove items out of stock?\")\n",
    "    if cmd.lower() in [\"yea\", \"yes\", \"y\"]:\n",
    "        remove_out_of_stock(catalogue)\n",
    "\n",
    "    cmd = input(\"Filter items only with certain word in name, no for no filtering:\")\n",
    "    if cmd.lower() not in [\"no\", \"n\"]:\n",
    "        remove_excluding(cmd, catalogue)\n",
    "\n",
    "    cmd = input(\"Filter out items including a certain word, no for no filter:\")\n",
    "    if cmd.lower() not in [\"no\", \"n\"]:\n",
    "        remove_including(cmd, catalogue)\n",
    "        \n",
    "    cmd = input(\"Do you want the data as a CSV, SQL db or both?\")\n",
    "    return cmd.lower()"
   ]
  },
  {
   "cell_type": "code",
   "execution_count": null,
   "metadata": {},
   "outputs": [],
   "source": [
    "#Data exporting functions\n",
    "def as_csv(catalogue):\n",
    "    with open(\"data.csv\", 'w', newline='', encoding=\"utf-8\") as csvf:\n",
    "        fields = [\"price\", \"rating\", \"reviews\", \"name\", \"link\"]\n",
    "        writer = csv.DictWriter(csvf, fieldnames= fields)\n",
    "        writer.writeheader()\n",
    "        writer.writerows(catalogue)\n",
    "        \n",
    "def as_sql(catalogue):\n",
    "    conn = sqlite3.connect('products.db')\n",
    "    cursor = conn.cursor()\n",
    "\n",
    "    cursor.execute('''\n",
    "        CREATE TABLE IF NOT EXISTS products (\n",
    "            price REAL,\n",
    "            rating REAL,\n",
    "            reviews INTEGER,\n",
    "            name TEXT,\n",
    "            link TEXT\n",
    "        )\n",
    "    ''')\n",
    "    conn.commit()\n",
    "\n",
    "    for item in catalogue:\n",
    "        cursor.execute('''\n",
    "            INSERT INTO products (price, rating, reviews, name, link)\n",
    "            VALUES (:price, :rating, :reviews, :name, :link)\n",
    "        ''', item)\n",
    "\n",
    "    conn.commit()\n",
    "\n",
    "    cursor.execute(\"SELECT * FROM products\")\n",
    "    rows = cursor.fetchall()\n",
    "    for row in rows:\n",
    "        print(row)\n",
    "    \n",
    "    conn.close()"
   ]
  },
  {
   "cell_type": "code",
   "execution_count": null,
   "metadata": {
    "notebookRunGroups": {
     "groupValue": "1"
    }
   },
   "outputs": [],
   "source": [
    "#Iterating through pages, add all items to the list, not removing duplicates or items out of stock\n",
    "scrape_page(soup)\n",
    "page_num = \"2\"\n",
    "current = soup.find(\"a\", attrs={\"aria-label\": \"Go to next page, page \" + page_num})\n",
    "while current is not None:\n",
    "    req = requests.get(\"https://www.amazon.ca\" + current.get(\"href\"), headers= custom_header)\n",
    "    print(\"https://www.amazon.ca\" + current.get(\"href\"))\n",
    "    sauce = BeautifulSoup(req.content, \"html.parser\")\n",
    "    scrape_page(sauce)\n",
    "    page_num = str(int(page_num) + 1)\n",
    "    current = sauce.find(\"a\", attrs={\"aria-label\": \"Go to next page, page \" + page_num})"
   ]
  },
  {
   "cell_type": "code",
   "execution_count": null,
   "metadata": {},
   "outputs": [],
   "source": [
    "#Exporting the data, asks for what filters they want, as .csv or .db\n",
    "remove_duplicate_items(listing) #always remove dupes cuz yea\n",
    "output = filters(listing)\n",
    "if output == \"both\":\n",
    "    as_sql(listing)\n",
    "    as_csv(listing)\n",
    "elif output == \"csv\":\n",
    "    as_csv(listing)\n",
    "else:\n",
    "    as_sql(listing)"
   ]
  }
 ],
 "metadata": {
  "kernelspec": {
   "display_name": "Python 3",
   "language": "python",
   "name": "python3"
  },
  "language_info": {
   "codemirror_mode": {
    "name": "ipython",
    "version": 3
   },
   "file_extension": ".py",
   "mimetype": "text/x-python",
   "name": "python",
   "nbconvert_exporter": "python",
   "pygments_lexer": "ipython3",
   "version": "3.11.5"
  }
 },
 "nbformat": 4,
 "nbformat_minor": 2
}
